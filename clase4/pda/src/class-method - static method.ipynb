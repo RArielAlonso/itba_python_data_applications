{
 "cells": [
  {
   "cell_type": "markdown",
   "id": "b5ddefd0-6357-4fe2-ada9-7b0aefe90ea7",
   "metadata": {},
   "source": [
    "# Class Method"
   ]
  },
  {
   "cell_type": "code",
   "execution_count": 1,
   "id": "0ba2e791-c20c-4c3c-be5d-4f2134e80972",
   "metadata": {},
   "outputs": [],
   "source": [
    "class MyClass:\n",
    "    class_value=0\n",
    "\n",
    "    def __init__(self,var):\n",
    "        self.instance_value=var"
   ]
  },
  {
   "cell_type": "code",
   "execution_count": 104,
   "id": "f3f1d6ba-1455-4977-afdb-d59e1d9f4d73",
   "metadata": {},
   "outputs": [],
   "source": [
    "a=MyClass(3)"
   ]
  },
  {
   "cell_type": "code",
   "execution_count": 74,
   "id": "34b1f092-6cef-4287-bf0a-ab6a6cf22956",
   "metadata": {},
   "outputs": [
    {
     "data": {
      "text/plain": [
       "(3, 0)"
      ]
     },
     "execution_count": 74,
     "metadata": {},
     "output_type": "execute_result"
    }
   ],
   "source": [
    "a.instance_value,a.class_value"
   ]
  },
  {
   "cell_type": "code",
   "execution_count": 46,
   "id": "83c7844a-9515-42dd-9474-59c13d84264a",
   "metadata": {},
   "outputs": [],
   "source": [
    "class MyClass:\n",
    "    class_value=0\n",
    "\n",
    "    def __init__(self,var):\n",
    "        self.instance_value=var\n",
    "\n",
    "    @classmethod\n",
    "    def incremental_class_val(cls):\n",
    "        cls.class_value += 1"
   ]
  },
  {
   "cell_type": "code",
   "execution_count": 96,
   "id": "f395011c-dfbd-49f0-bf88-c0fca4704faf",
   "metadata": {},
   "outputs": [],
   "source": [
    "a.incremental_class_val()"
   ]
  },
  {
   "cell_type": "code",
   "execution_count": 103,
   "id": "3da525aa-5535-4e1c-9309-91b9d1e6f737",
   "metadata": {},
   "outputs": [
    {
     "data": {
      "text/plain": [
       "(3, 0)"
      ]
     },
     "execution_count": 103,
     "metadata": {},
     "output_type": "execute_result"
    }
   ],
   "source": [
    "a.instance_value,a.class_value"
   ]
  },
  {
   "cell_type": "code",
   "execution_count": 85,
   "id": "73c7db51-12df-41e9-8981-e81196082699",
   "metadata": {},
   "outputs": [],
   "source": [
    "b=MyClass(3)"
   ]
  },
  {
   "cell_type": "code",
   "execution_count": 99,
   "id": "7b57719f-3a77-401b-9b30-b15fe325d6e5",
   "metadata": {},
   "outputs": [
    {
     "data": {
      "text/plain": [
       "(3, 0)"
      ]
     },
     "execution_count": 99,
     "metadata": {},
     "output_type": "execute_result"
    }
   ],
   "source": [
    "b.instance_value,b.class_value"
   ]
  },
  {
   "cell_type": "code",
   "execution_count": 87,
   "id": "66cbfe7c-700d-4fc1-9855-cf27b8f96318",
   "metadata": {},
   "outputs": [],
   "source": [
    "class MyClass:\n",
    "    class_value=0\n",
    "\n",
    "    def __init__(self,var):\n",
    "        self.instance_value=var\n",
    "\n",
    "    @classmethod\n",
    "    def incremental_class_val(cls):\n",
    "        cls.class_value += 1\n",
    "\n",
    "    @classmethod\n",
    "    def reset_class_val(cls):\n",
    "        cls.class_value=0"
   ]
  },
  {
   "cell_type": "code",
   "execution_count": 98,
   "id": "95d4b2c2-ef92-4777-b5b0-5f9b78ed000d",
   "metadata": {},
   "outputs": [],
   "source": [
    "b.reset_class_val()"
   ]
  },
  {
   "cell_type": "markdown",
   "id": "4bd2890c-2608-4bd2-8f45-24e85873fb56",
   "metadata": {},
   "source": [
    "# Static method"
   ]
  },
  {
   "cell_type": "code",
   "execution_count": 102,
   "id": "97705f2b-974e-4493-bd1c-aa1c8ba0a80b",
   "metadata": {},
   "outputs": [],
   "source": [
    "class MyClass:\n",
    "    class_value=0\n",
    "\n",
    "    def __init__(self,var):\n",
    "        self.instance_value=var\n",
    "\n",
    "    @classmethod\n",
    "    def incremental_class_val(cls):\n",
    "        cls.class_value += 1\n",
    "\n",
    "    @classmethod\n",
    "    def reset_class_val(cls):\n",
    "        cls.class_value=0\n",
    "\n",
    "    @staticmethod\n",
    "    def sum_val(val1,val2):\n",
    "        return val1+val2"
   ]
  },
  {
   "cell_type": "code",
   "execution_count": 106,
   "id": "437accbd-36ab-45fe-a6fa-360707b2ef96",
   "metadata": {},
   "outputs": [
    {
     "data": {
      "text/plain": [
       "(10, 3, 0)"
      ]
     },
     "execution_count": 106,
     "metadata": {},
     "output_type": "execute_result"
    }
   ],
   "source": [
    "a.sum_val(5,5),a.instance_value,a.class_value"
   ]
  }
 ],
 "metadata": {
  "kernelspec": {
   "display_name": "Python 3 (ipykernel)",
   "language": "python",
   "name": "python3"
  },
  "language_info": {
   "codemirror_mode": {
    "name": "ipython",
    "version": 3
   },
   "file_extension": ".py",
   "mimetype": "text/x-python",
   "name": "python",
   "nbconvert_exporter": "python",
   "pygments_lexer": "ipython3",
   "version": "3.9.5"
  }
 },
 "nbformat": 4,
 "nbformat_minor": 5
}
