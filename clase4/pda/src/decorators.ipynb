{
 "cells": [
  {
   "cell_type": "code",
   "execution_count": 33,
   "id": "20daef91-38d9-4e8d-996e-cb0572a4566c",
   "metadata": {},
   "outputs": [],
   "source": [
    "def say_hello(name):\n",
    "    return f'Hello {name}'"
   ]
  },
  {
   "cell_type": "code",
   "execution_count": 34,
   "id": "1b845558-442c-4018-a198-0d4aae7ea90b",
   "metadata": {},
   "outputs": [
    {
     "data": {
      "text/plain": [
       "'Hello ariel'"
      ]
     },
     "execution_count": 34,
     "metadata": {},
     "output_type": "execute_result"
    }
   ],
   "source": [
    "say_hello('ariel')"
   ]
  },
  {
   "cell_type": "code",
   "execution_count": 35,
   "id": "6c25c79b-03c9-4261-aca4-327d9a676a1a",
   "metadata": {},
   "outputs": [],
   "source": [
    "def nice_day(x):\n",
    "    return f'{x}.Have a nice day'"
   ]
  },
  {
   "cell_type": "code",
   "execution_count": 36,
   "id": "a22857d9-26be-4ab2-b920-66cfa2fddd42",
   "metadata": {},
   "outputs": [
    {
     "data": {
      "text/plain": [
       "'Hello Ariel.Have a nice day'"
      ]
     },
     "execution_count": 36,
     "metadata": {},
     "output_type": "execute_result"
    }
   ],
   "source": [
    "nice_day(say_hello('Ariel'))"
   ]
  },
  {
   "cell_type": "markdown",
   "id": "3ea1170f-d529-4dc3-b823-45203d1ad148",
   "metadata": {},
   "source": [
    "# Ejemplo decorators"
   ]
  },
  {
   "cell_type": "code",
   "execution_count": 37,
   "id": "ee5e83de-815e-4b39-b58a-29f06e1d5e59",
   "metadata": {},
   "outputs": [],
   "source": [
    "def nice_day_decorators(func):\n",
    "    def wrapper(name):\n",
    "        res=func(name)\n",
    "        ret=f'{res}. Have a nice day-Decorator'\n",
    "        return ret\n",
    "    return wrapper"
   ]
  },
  {
   "cell_type": "code",
   "execution_count": 38,
   "id": "41ad82fb-a7b4-4e14-8074-317ecae3fb34",
   "metadata": {},
   "outputs": [],
   "source": [
    "@nice_day_decorators\n",
    "def say_hello(name):\n",
    "    return f'Hello {name}'\n"
   ]
  },
  {
   "cell_type": "code",
   "execution_count": 39,
   "id": "03a8c9cf-8c5a-4a1f-9609-e1e6a9afb614",
   "metadata": {},
   "outputs": [
    {
     "data": {
      "text/plain": [
       "'Hello ariel. Have a nice day-Decorator'"
      ]
     },
     "execution_count": 39,
     "metadata": {},
     "output_type": "execute_result"
    }
   ],
   "source": [
    "say_hello('ariel')"
   ]
  },
  {
   "cell_type": "code",
   "execution_count": 40,
   "id": "fb65ae85-1daf-49ea-a87f-d7e82386837d",
   "metadata": {},
   "outputs": [
    {
     "data": {
      "text/plain": [
       "<function __main__.nice_day(x)>"
      ]
     },
     "execution_count": 40,
     "metadata": {},
     "output_type": "execute_result"
    }
   ],
   "source": [
    "nice_day"
   ]
  },
  {
   "cell_type": "code",
   "execution_count": 41,
   "id": "016e49fb-6a3c-48b3-a8de-8f82da4371fa",
   "metadata": {},
   "outputs": [
    {
     "data": {
      "text/plain": [
       "<function __main__.nice_day_decorators.<locals>.wrapper(name)>"
      ]
     },
     "execution_count": 41,
     "metadata": {},
     "output_type": "execute_result"
    }
   ],
   "source": [
    "say_hello"
   ]
  },
  {
   "cell_type": "markdown",
   "id": "70a35440-b792-4ffa-a578-ad7b0d43f5c6",
   "metadata": {},
   "source": [
    "# Otro ejemplo de decorator"
   ]
  },
  {
   "cell_type": "code",
   "execution_count": 53,
   "id": "3b95e958-d386-4614-a2ab-6028ff3b84b5",
   "metadata": {},
   "outputs": [],
   "source": [
    "def validate_user(func):\n",
    "    def wrapper(name):\n",
    "        if name not in ['Tomas','Axel','Lucas','Martin']:\n",
    "            raise Exception(f'{name} is not allowed')\n",
    "        return_value=func(name)\n",
    "        return return_value\n",
    "    return wrapper\n",
    "        "
   ]
  },
  {
   "cell_type": "code",
   "execution_count": 54,
   "id": "fe34ec88-9520-49a9-ab0d-305d73360c2a",
   "metadata": {},
   "outputs": [],
   "source": [
    "@validate_user\n",
    "@nice_day_decorators\n",
    "def say_hello(name):\n",
    "    return f'Hello {name}'"
   ]
  },
  {
   "cell_type": "code",
   "execution_count": 57,
   "id": "21e5c7c3-7a83-49b6-b145-388d2bda7bfc",
   "metadata": {},
   "outputs": [
    {
     "ename": "Exception",
     "evalue": "Ariel is not allowed",
     "output_type": "error",
     "traceback": [
      "\u001b[0;31m---------------------------------------------------------------------------\u001b[0m",
      "\u001b[0;31mException\u001b[0m                                 Traceback (most recent call last)",
      "Cell \u001b[0;32mIn[57], line 1\u001b[0m\n\u001b[0;32m----> 1\u001b[0m \u001b[43msay_hello\u001b[49m\u001b[43m(\u001b[49m\u001b[38;5;124;43m'\u001b[39;49m\u001b[38;5;124;43mAriel\u001b[39;49m\u001b[38;5;124;43m'\u001b[39;49m\u001b[43m)\u001b[49m\n",
      "Cell \u001b[0;32mIn[53], line 4\u001b[0m, in \u001b[0;36mvalidate_user.<locals>.wrapper\u001b[0;34m(name)\u001b[0m\n\u001b[1;32m      2\u001b[0m \u001b[38;5;28;01mdef\u001b[39;00m \u001b[38;5;21mwrapper\u001b[39m(name):\n\u001b[1;32m      3\u001b[0m     \u001b[38;5;28;01mif\u001b[39;00m name \u001b[38;5;129;01mnot\u001b[39;00m \u001b[38;5;129;01min\u001b[39;00m [\u001b[38;5;124m'\u001b[39m\u001b[38;5;124mTomas\u001b[39m\u001b[38;5;124m'\u001b[39m,\u001b[38;5;124m'\u001b[39m\u001b[38;5;124mAxel\u001b[39m\u001b[38;5;124m'\u001b[39m,\u001b[38;5;124m'\u001b[39m\u001b[38;5;124mLucas\u001b[39m\u001b[38;5;124m'\u001b[39m,\u001b[38;5;124m'\u001b[39m\u001b[38;5;124mMartin\u001b[39m\u001b[38;5;124m'\u001b[39m]:\n\u001b[0;32m----> 4\u001b[0m         \u001b[38;5;28;01mraise\u001b[39;00m \u001b[38;5;167;01mException\u001b[39;00m(\u001b[38;5;124mf\u001b[39m\u001b[38;5;124m'\u001b[39m\u001b[38;5;132;01m{\u001b[39;00mname\u001b[38;5;132;01m}\u001b[39;00m\u001b[38;5;124m is not allowed\u001b[39m\u001b[38;5;124m'\u001b[39m)\n\u001b[1;32m      5\u001b[0m     return_value\u001b[38;5;241m=\u001b[39mfunc(name)\n\u001b[1;32m      6\u001b[0m     \u001b[38;5;28;01mreturn\u001b[39;00m return_value\n",
      "\u001b[0;31mException\u001b[0m: Ariel is not allowed"
     ]
    }
   ],
   "source": [
    "say_hello('Ariel')"
   ]
  },
  {
   "cell_type": "code",
   "execution_count": 58,
   "id": "412f1778-abf9-4753-946f-40c82fa153f0",
   "metadata": {},
   "outputs": [
    {
     "data": {
      "text/plain": [
       "'Hello Lucas. Have a nice day-Decorator'"
      ]
     },
     "execution_count": 58,
     "metadata": {},
     "output_type": "execute_result"
    }
   ],
   "source": [
    "say_hello('Lucas')"
   ]
  }
 ],
 "metadata": {
  "kernelspec": {
   "display_name": "Python 3 (ipykernel)",
   "language": "python",
   "name": "python3"
  },
  "language_info": {
   "codemirror_mode": {
    "name": "ipython",
    "version": 3
   },
   "file_extension": ".py",
   "mimetype": "text/x-python",
   "name": "python",
   "nbconvert_exporter": "python",
   "pygments_lexer": "ipython3",
   "version": "3.9.5"
  }
 },
 "nbformat": 4,
 "nbformat_minor": 5
}
