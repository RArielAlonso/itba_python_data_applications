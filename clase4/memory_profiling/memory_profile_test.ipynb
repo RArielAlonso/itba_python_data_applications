{
 "cells": [
  {
   "cell_type": "code",
   "execution_count": 1,
   "id": "94f64bcd-4f83-4bb7-ba76-01b274e7a714",
   "metadata": {},
   "outputs": [],
   "source": [
    "import random"
   ]
  },
  {
   "cell_type": "code",
   "execution_count": 2,
   "id": "989711e2-8389-4b7f-af6a-5126cfbd7ad5",
   "metadata": {},
   "outputs": [],
   "source": [
    "%load_ext memory_profiler"
   ]
  },
  {
   "cell_type": "code",
   "execution_count": 10,
   "id": "5bc12a9a-3aba-4164-84aa-e56835e35fe4",
   "metadata": {},
   "outputs": [
    {
     "name": "stdout",
     "output_type": "stream",
     "text": [
      "peak memory: 65.09 MiB, increment: 0.00 MiB\n"
     ]
    }
   ],
   "source": [
    "%memit\n",
    "list_int=[random.randint(1,10) for i in range(10000)]\n",
    "list_float_0_1=[random.random() for i in range(10000)]\n",
    "list_str=[\"ariel\" for i in range(10000)]\n",
    "b = [2] * (2 * 10 ** 7)\n",
    "del list_int\n",
    "del b"
   ]
  }
 ],
 "metadata": {
  "kernelspec": {
   "display_name": "Python 3 (ipykernel)",
   "language": "python",
   "name": "python3"
  },
  "language_info": {
   "codemirror_mode": {
    "name": "ipython",
    "version": 3
   },
   "file_extension": ".py",
   "mimetype": "text/x-python",
   "name": "python",
   "nbconvert_exporter": "python",
   "pygments_lexer": "ipython3",
   "version": "3.9.5"
  }
 },
 "nbformat": 4,
 "nbformat_minor": 5
}
