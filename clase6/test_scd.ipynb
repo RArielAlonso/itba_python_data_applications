{
 "cells": [
  {
   "cell_type": "code",
   "execution_count": 192,
   "metadata": {},
   "outputs": [],
   "source": [
    "import pandas as pd\n",
    "from sqlalchemy import create_engine\n",
    "import datetime as dt\n",
    "import psycopg2\n",
    "import requests"
   ]
  },
  {
   "cell_type": "code",
   "execution_count": 193,
   "metadata": {},
   "outputs": [],
   "source": [
    "POSTGRES_USER=\"ariel\"\n",
    "POSTGRES_PASS=\"ariel\"\n",
    "POSTGRES_HOST=\"localhost\"\n",
    "POSTGRES_DB=\"eco_bikes\"\n",
    "POSTGRES_PORT=\"5432\"\n",
    "POSTGRES_SCHEMA=\"eco_bikes\"\n",
    "DB_STR = f\"postgresql+psycopg2://{POSTGRES_USER}:{POSTGRES_PASS}@{POSTGRES_HOST}:{POSTGRES_PORT}/{POSTGRES_DB}\""
   ]
  },
  {
   "cell_type": "code",
   "execution_count": 194,
   "metadata": {},
   "outputs": [],
   "source": [
    "conn = create_engine(DB_STR, connect_args={'options': f'-csearch_path={POSTGRES_SCHEMA}'})"
   ]
  },
  {
   "cell_type": "code",
   "execution_count": 195,
   "metadata": {},
   "outputs": [],
   "source": [
    "data_scr=pd.read_parquet(\"/tmp/station_info_eco_bikes.parquet\")"
   ]
  },
  {
   "cell_type": "code",
   "execution_count": 196,
   "metadata": {},
   "outputs": [],
   "source": [
    "data_scr.drop(columns=\"reload_id\",inplace=True)"
   ]
  },
  {
   "cell_type": "code",
   "execution_count": 197,
   "metadata": {},
   "outputs": [
    {
     "data": {
      "text/plain": [
       "Index(['station_id', 'station_name', 'physical_configuration', 'lat', 'lon',\n",
       "       'altitude', 'address', 'capacity', 'is_charging_station',\n",
       "       'nearby_distance', '_ride_code_support'],\n",
       "      dtype='object')"
      ]
     },
     "execution_count": 197,
     "metadata": {},
     "output_type": "execute_result"
    }
   ],
   "source": [
    "data_scr.columns"
   ]
  },
  {
   "cell_type": "code",
   "execution_count": 198,
   "metadata": {},
   "outputs": [],
   "source": [
    "data_target=pd.read_sql_query(\"SELECT * FROM eco_bikes.station_info_eco_bikes\",con=conn)"
   ]
  },
  {
   "cell_type": "code",
   "execution_count": 199,
   "metadata": {},
   "outputs": [
    {
     "data": {
      "text/html": [
       "<div>\n",
       "<style scoped>\n",
       "    .dataframe tbody tr th:only-of-type {\n",
       "        vertical-align: middle;\n",
       "    }\n",
       "\n",
       "    .dataframe tbody tr th {\n",
       "        vertical-align: top;\n",
       "    }\n",
       "\n",
       "    .dataframe thead th {\n",
       "        text-align: right;\n",
       "    }\n",
       "</style>\n",
       "<table border=\"1\" class=\"dataframe\">\n",
       "  <thead>\n",
       "    <tr style=\"text-align: right;\">\n",
       "      <th></th>\n",
       "      <th>pk_surrogate_station_info</th>\n",
       "      <th>station_id</th>\n",
       "      <th>station_name</th>\n",
       "      <th>physical_configuration</th>\n",
       "      <th>lat</th>\n",
       "      <th>lon</th>\n",
       "      <th>altitude</th>\n",
       "      <th>address</th>\n",
       "      <th>capacity</th>\n",
       "      <th>is_charging_station</th>\n",
       "      <th>nearby_distance</th>\n",
       "      <th>_ride_code_support</th>\n",
       "      <th>start_date</th>\n",
       "      <th>end_date</th>\n",
       "      <th>is_active</th>\n",
       "    </tr>\n",
       "  </thead>\n",
       "  <tbody>\n",
       "  </tbody>\n",
       "</table>\n",
       "</div>"
      ],
      "text/plain": [
       "Empty DataFrame\n",
       "Columns: [pk_surrogate_station_info, station_id, station_name, physical_configuration, lat, lon, altitude, address, capacity, is_charging_station, nearby_distance, _ride_code_support, start_date, end_date, is_active]\n",
       "Index: []"
      ]
     },
     "execution_count": 199,
     "metadata": {},
     "output_type": "execute_result"
    }
   ],
   "source": [
    "data_target"
   ]
  },
  {
   "cell_type": "markdown",
   "metadata": {},
   "source": [
    "## CODE TO MAKE SCD"
   ]
  },
  {
   "cell_type": "code",
   "execution_count": 200,
   "metadata": {},
   "outputs": [],
   "source": [
    "datetime_now=pd.to_datetime(dt.datetime.now(),format=\"%Y-%m-%d %HH:%MM:%SS\")"
   ]
  },
  {
   "cell_type": "code",
   "execution_count": 201,
   "metadata": {},
   "outputs": [],
   "source": [
    "data_target_current=data_target[(data_target[\"is_active\"]==1)]"
   ]
  },
  {
   "cell_type": "code",
   "execution_count": 202,
   "metadata": {},
   "outputs": [],
   "source": [
    "df_merge_col=pd.merge(data_scr,data_target_current,on='station_id',how='left')"
   ]
  },
  {
   "cell_type": "code",
   "execution_count": 203,
   "metadata": {},
   "outputs": [],
   "source": [
    "new_records_filter=pd.isnull(df_merge_col).any(axis=1)\n"
   ]
  },
  {
   "cell_type": "code",
   "execution_count": 204,
   "metadata": {},
   "outputs": [],
   "source": [
    "df_new_records = df_merge_col[new_records_filter]"
   ]
  },
  {
   "cell_type": "code",
   "execution_count": 205,
   "metadata": {},
   "outputs": [],
   "source": [
    "df_excluding_new = pd.concat([df_merge_col, df_new_records],axis=0).drop_duplicates(keep=False)"
   ]
  },
  {
   "cell_type": "code",
   "execution_count": 206,
   "metadata": {},
   "outputs": [],
   "source": [
    "df_new_records_final=df_new_records.copy()\n",
    "df_new_records_final=df_new_records_final[['station_id',\"station_name_x\",\"physical_configuration_x\",\"lat_x\",\"lon_x\",\"altitude_x\",\"address_x\",\"capacity_x\",\"is_charging_station_x\",\"nearby_distance_x\",\"_ride_code_support_x\"]]\n",
    "df_new_records_final.columns=['station_id', 'station_name', 'physical_configuration', 'lat', 'lon','altitude', 'address', 'capacity', 'is_charging_station','nearby_distance', '_ride_code_support']"
   ]
  },
  {
   "cell_type": "code",
   "execution_count": 207,
   "metadata": {},
   "outputs": [],
   "source": [
    "df_new_records_final['start_date']=datetime_now\n",
    "df_new_records_final['end_date']=\"9999-12-30 00:00:00\"\n",
    "df_new_records_final['is_active']=1"
   ]
  },
  {
   "cell_type": "code",
   "execution_count": 208,
   "metadata": {},
   "outputs": [],
   "source": [
    "df_scd2_records=df_excluding_new[(df_excluding_new[\"station_name_x\"]!=df_excluding_new[\"station_name_y\"] ) | \n",
    "                                 (df_excluding_new[\"physical_configuration_x\"]!=df_excluding_new[\"physical_configuration_y\"]) | \n",
    "                                 (df_excluding_new[\"lat_x\"]!=df_excluding_new[\"lat_y\"]) | \n",
    "                                 (df_excluding_new[\"lon_x\"]!=df_excluding_new[\"lon_y\"]) | \n",
    "                                 (df_excluding_new[\"altitude_x\"]!=df_excluding_new[\"altitude_y\"]) | \n",
    "                                 (df_excluding_new[\"address_x\"]!=df_excluding_new[\"address_y\"]) | \n",
    "                                 (df_excluding_new[\"capacity_x\"]!=df_excluding_new[\"capacity_y\"]) | \n",
    "                                 (df_excluding_new[\"is_charging_station_x\"]!=df_excluding_new[\"is_charging_station_y\"]) | \n",
    "                                 (df_excluding_new[\"nearby_distance_x\"]!=df_excluding_new[\"nearby_distance_y\"]) | \n",
    "                                 (df_excluding_new[\"_ride_code_support_x\"]!=df_excluding_new[\"_ride_code_support_y\"])]"
   ]
  },
  {
   "cell_type": "code",
   "execution_count": 209,
   "metadata": {},
   "outputs": [
    {
     "data": {
      "text/html": [
       "<div>\n",
       "<style scoped>\n",
       "    .dataframe tbody tr th:only-of-type {\n",
       "        vertical-align: middle;\n",
       "    }\n",
       "\n",
       "    .dataframe tbody tr th {\n",
       "        vertical-align: top;\n",
       "    }\n",
       "\n",
       "    .dataframe thead th {\n",
       "        text-align: right;\n",
       "    }\n",
       "</style>\n",
       "<table border=\"1\" class=\"dataframe\">\n",
       "  <thead>\n",
       "    <tr style=\"text-align: right;\">\n",
       "      <th></th>\n",
       "      <th>station_id</th>\n",
       "      <th>station_name</th>\n",
       "      <th>physical_configuration</th>\n",
       "      <th>lat</th>\n",
       "      <th>lon</th>\n",
       "      <th>altitude</th>\n",
       "      <th>address</th>\n",
       "      <th>capacity</th>\n",
       "      <th>is_charging_station</th>\n",
       "      <th>nearby_distance</th>\n",
       "      <th>_ride_code_support</th>\n",
       "      <th>start_date</th>\n",
       "      <th>end_date</th>\n",
       "      <th>is_active</th>\n",
       "    </tr>\n",
       "  </thead>\n",
       "  <tbody>\n",
       "  </tbody>\n",
       "</table>\n",
       "</div>"
      ],
      "text/plain": [
       "Empty DataFrame\n",
       "Columns: [station_id, station_name, physical_configuration, lat, lon, altitude, address, capacity, is_charging_station, nearby_distance, _ride_code_support, start_date, end_date, is_active]\n",
       "Index: []"
      ]
     },
     "execution_count": 209,
     "metadata": {},
     "output_type": "execute_result"
    }
   ],
   "source": [
    "df_scd2_records_final_replace=df_scd2_records.copy()\n",
    "df_scd2_records_final_replace=df_scd2_records_final_replace[['station_id',\"station_name_y\",\"physical_configuration_y\",\"lat_y\",\"lon_y\",\"altitude_y\",\"address_y\",\"capacity_y\",\"is_charging_station_y\",\"nearby_distance_y\",\"_ride_code_support_y\",\"start_date\"]]\n",
    "df_scd2_records_final_replace.columns=['station_id', 'station_name', 'physical_configuration', 'lat', 'lon','altitude', 'address', 'capacity', 'is_charging_station','nearby_distance', '_ride_code_support',\"start_date\"]\n",
    "df_scd2_records_final_replace['start_date']=df_scd2_records_final_replace['start_date'].astype(str)\n",
    "df_scd2_records_final_replace['end_date']=datetime_now\n",
    "df_scd2_records_final_replace['is_active']=0\n",
    "df_scd2_records_final_replace"
   ]
  },
  {
   "cell_type": "code",
   "execution_count": 210,
   "metadata": {},
   "outputs": [
    {
     "data": {
      "text/html": [
       "<div>\n",
       "<style scoped>\n",
       "    .dataframe tbody tr th:only-of-type {\n",
       "        vertical-align: middle;\n",
       "    }\n",
       "\n",
       "    .dataframe tbody tr th {\n",
       "        vertical-align: top;\n",
       "    }\n",
       "\n",
       "    .dataframe thead th {\n",
       "        text-align: right;\n",
       "    }\n",
       "</style>\n",
       "<table border=\"1\" class=\"dataframe\">\n",
       "  <thead>\n",
       "    <tr style=\"text-align: right;\">\n",
       "      <th></th>\n",
       "      <th>station_id</th>\n",
       "      <th>station_name</th>\n",
       "      <th>physical_configuration</th>\n",
       "      <th>lat</th>\n",
       "      <th>lon</th>\n",
       "      <th>altitude</th>\n",
       "      <th>address</th>\n",
       "      <th>capacity</th>\n",
       "      <th>is_charging_station</th>\n",
       "      <th>nearby_distance</th>\n",
       "      <th>_ride_code_support</th>\n",
       "      <th>start_date</th>\n",
       "      <th>end_date</th>\n",
       "      <th>is_active</th>\n",
       "    </tr>\n",
       "  </thead>\n",
       "  <tbody>\n",
       "  </tbody>\n",
       "</table>\n",
       "</div>"
      ],
      "text/plain": [
       "Empty DataFrame\n",
       "Columns: [station_id, station_name, physical_configuration, lat, lon, altitude, address, capacity, is_charging_station, nearby_distance, _ride_code_support, start_date, end_date, is_active]\n",
       "Index: []"
      ]
     },
     "execution_count": 210,
     "metadata": {},
     "output_type": "execute_result"
    }
   ],
   "source": [
    "df_scd2_records_final_append=df_scd2_records.copy()\n",
    "df_scd2_records_final_append=df_scd2_records_final_append[['station_id',\"station_name_x\",\"physical_configuration_x\",\"lat_x\",\"lon_x\",\"altitude_x\",\"address_x\",\"capacity_x\",\"is_charging_station_x\",\"nearby_distance_x\",\"_ride_code_support_x\"]]\n",
    "df_scd2_records_final_append.columns=['station_id', 'station_name', 'physical_configuration', 'lat', 'lon','altitude', 'address', 'capacity', 'is_charging_station','nearby_distance', '_ride_code_support']\n",
    "df_scd2_records_final_append['start_date']=datetime_now\n",
    "df_scd2_records_final_append['end_date']=\"9999-12-30 00:00:00\"\n",
    "df_scd2_records_final_append['is_active']=1\n",
    "df_scd2_records_final_append"
   ]
  },
  {
   "cell_type": "markdown",
   "metadata": {},
   "source": [
    "# LOAD TO DATABSE"
   ]
  },
  {
   "cell_type": "code",
   "execution_count": 211,
   "metadata": {},
   "outputs": [],
   "source": [
    "try:\n",
    "    connection = psycopg2.connect(user=\"ariel\",\n",
    "                                  password=\"ariel\",\n",
    "                                  host=\"localhost\",\n",
    "                                  port=\"5432\",\n",
    "                                  database=\"eco_bikes\")\n",
    "    cur=connection.cursor()\n",
    "    for index, row in df_scd2_records_final_replace.iterrows():\n",
    "        # Assuming your_table_name is the name of the table you want to update\n",
    "        # Assuming your_primary_key_column is the primary key column of your table\n",
    "        # Assuming your_primary_key_value is the value of the primary key for the specific row you want to update\n",
    "        update_query = f\"UPDATE eco_bikes.station_info_eco_bikes SET \"\n",
    "        \n",
    "        # Dynamically construct the SET clause of the update query\n",
    "        set_clauses = ', '.join([f\"{col} = %s\" for col in df_scd2_records_final_replace.columns])\n",
    "        update_query += set_clauses\n",
    "        \n",
    "        # Specify the WHERE clause for the specific row to update\n",
    "        update_query += f\" WHERE station_id = '{row['station_id']}' and is_active=1 \"\n",
    "        \n",
    "        # Extract values from the DataFrame\n",
    "        values = tuple([row[col] for col in df_scd2_records_final_replace.columns])\n",
    "               \n",
    "        # Execute the update query with parameterized values\n",
    "        cur.execute(update_query, values)\n",
    "        connection.commit()\n",
    "except (Exception, psycopg2.Error) as error:\n",
    "    print(\"Error while fetching data from PostgreSQL\", error)\n",
    "\n",
    "finally:\n",
    "    cur.close()\n",
    "    connection.close()"
   ]
  },
  {
   "cell_type": "code",
   "execution_count": 212,
   "metadata": {},
   "outputs": [
    {
     "data": {
      "text/plain": [
       "351"
      ]
     },
     "execution_count": 212,
     "metadata": {},
     "output_type": "execute_result"
    }
   ],
   "source": [
    "df_new_records_final.to_sql('station_info_eco_bikes',index=False,con=conn,if_exists=\"append\")"
   ]
  },
  {
   "cell_type": "code",
   "execution_count": 213,
   "metadata": {},
   "outputs": [
    {
     "data": {
      "text/plain": [
       "0"
      ]
     },
     "execution_count": 213,
     "metadata": {},
     "output_type": "execute_result"
    }
   ],
   "source": [
    "df_scd2_records_final_append.to_sql('station_info_eco_bikes',index=False,con=conn,if_exists=\"append\")"
   ]
  },
  {
   "cell_type": "code",
   "execution_count": null,
   "metadata": {},
   "outputs": [],
   "source": [
    "def load_station_info_eco_bikes:"
   ]
  },
  {
   "cell_type": "code",
   "execution_count": null,
   "metadata": {},
   "outputs": [],
   "source": [
    "def load_station_info(path_parquet):\n",
    "    logging.info(f\"Reading parquet file: {path_parquet['station_info_eco_bikes']}.parquet in {path_parquet['station_info_eco_bikes']}\")\n",
    "    data_src = pd.read_parquet(path_parquet['station_info_eco_bikes'])\n",
    "        data_target=pd.read_sql_query(\"SELECT * FROM eco_bikes.station_info_eco_bikes\",con=conn)\n",
    "    datetime_now=pd.to_datetime(dt.datetime.now(),format=\"%Y-%m-%d %HH:%MM:%SS\")\n",
    "    data_target_current=data_target[(data_target[\"is_active\"]==1)]\n",
    "    df_merge_col=pd.merge(data_scr,data_target_current,on='station_id',how='left')\n",
    "    new_records_filter=pd.isnull(df_merge_col).any(axis=1)\n",
    "\n",
    "    df_new_records = df_merge_col[new_records_filter]\n",
    "    df_excluding_new = pd.concat([df_merge_col, df_new_records],axis=0).drop_duplicates(keep=False)\n",
    "    df_new_records_final=df_new_records.copy()\n",
    "    df_new_records_final=df_new_records_final[['station_id',\"station_name_x\",\"physical_configuration_x\",\"lat_x\",\"lon_x\",\"altitude_x\",\"address_x\",\"capacity_x\",\"is_charging_station_x\",\"nearby_distance_x\",\"_ride_code_support_x\"]]\n",
    "    df_new_records_final.columns=['station_id', 'station_name', 'physical_configuration', 'lat', 'lon','altitude', 'address', 'capacity', 'is_charging_station','nearby_distance', '_ride_code_support']\n",
    "    df_new_records_final['start_date']=datetime_now\n",
    "    df_new_records_final['end_date']=\"9999-12-30 00:00:00\"\n",
    "    df_new_records_final['is_active']=1\n",
    "    df_scd2_records=df_excluding_new[(df_excluding_new[\"station_name_x\"]!=df_excluding_new[\"station_name_y\"] ) | \n",
    "                                    (df_excluding_new[\"physical_configuration_x\"]!=df_excluding_new[\"physical_configuration_y\"]) | \n",
    "                                    (df_excluding_new[\"lat_x\"]!=df_excluding_new[\"lat_y\"]) | \n",
    "                                    (df_excluding_new[\"lon_x\"]!=df_excluding_new[\"lon_y\"]) | \n",
    "                                    (df_excluding_new[\"altitude_x\"]!=df_excluding_new[\"altitude_y\"]) | \n",
    "                                    (df_excluding_new[\"address_x\"]!=df_excluding_new[\"address_y\"]) | \n",
    "                                    (df_excluding_new[\"capacity_x\"]!=df_excluding_new[\"capacity_y\"]) | \n",
    "                                    (df_excluding_new[\"is_charging_station_x\"]!=df_excluding_new[\"is_charging_station_y\"]) | \n",
    "                                    (df_excluding_new[\"nearby_distance_x\"]!=df_excluding_new[\"nearby_distance_y\"]) | \n",
    "                                    (df_excluding_new[\"_ride_code_support_x\"]!=df_excluding_new[\"_ride_code_support_y\"])]\n",
    "    df_scd2_records_final_replace=df_scd2_records.copy()\n",
    "    df_scd2_records_final_replace=df_scd2_records_final_replace[['station_id',\"station_name_y\",\"physical_configuration_y\",\"lat_y\",\"lon_y\",\"altitude_y\",\"address_y\",\"capacity_y\",\"is_charging_station_y\",\"nearby_distance_y\",\"_ride_code_support_y\",\"start_date\"]]\n",
    "    df_scd2_records_final_replace.columns=['station_id', 'station_name', 'physical_configuration', 'lat', 'lon','altitude', 'address', 'capacity', 'is_charging_station','nearby_distance', '_ride_code_support',\"start_date\"]\n",
    "    df_scd2_records_final_replace['start_date']=df_scd2_records_final_replace['start_date'].astype(str)\n",
    "    df_scd2_records_final_replace['end_date']=datetime_now\n",
    "    df_scd2_records_final_replace['is_active']=0\n",
    "    df_scd2_records_final_replace\n",
    "    df_scd2_records_final_append=df_scd2_records.copy()\n",
    "    df_scd2_records_final_append=df_scd2_records_final_append[['station_id',\"station_name_x\",\"physical_configuration_x\",\"lat_x\",\"lon_x\",\"altitude_x\",\"address_x\",\"capacity_x\",\"is_charging_station_x\",\"nearby_distance_x\",\"_ride_code_support_x\"]]\n",
    "    df_scd2_records_final_append.columns=['station_id', 'station_name', 'physical_configuration', 'lat', 'lon','altitude', 'address', 'capacity', 'is_charging_station','nearby_distance', '_ride_code_support']\n",
    "    df_scd2_records_final_append['start_date']=datetime_now\n",
    "    df_scd2_records_final_append['end_date']=\"9999-12-30 00:00:00\"\n",
    "    df_scd2_records_final_append['is_active']=1\n",
    "    df_scd2_records_final_append\n",
    "\n",
    "    try:\n",
    "        connection = psycopg2.connect(user=\"ariel\",\n",
    "                                    password=\"ariel\",\n",
    "                                    host=\"localhost\",\n",
    "                                    port=\"5432\",\n",
    "                                    database=\"eco_bikes\")\n",
    "        cur=connection.cursor()\n",
    "        for index, row in df_scd2_records_final_replace.iterrows():\n",
    "            # Assuming your_table_name is the name of the table you want to update\n",
    "            # Assuming your_primary_key_column is the primary key column of your table\n",
    "            # Assuming your_primary_key_value is the value of the primary key for the specific row you want to update\n",
    "            update_query = f\"UPDATE eco_bikes.station_info_eco_bikes SET \"\n",
    "            \n",
    "            # Dynamically construct the SET clause of the update query\n",
    "            set_clauses = ', '.join([f\"{col} = %s\" for col in df_scd2_records_final_replace.columns])\n",
    "            update_query += set_clauses\n",
    "            \n",
    "            # Specify the WHERE clause for the specific row to update\n",
    "            update_query += f\" WHERE station_id = '{row['station_id']}' and is_active=1 \"\n",
    "            \n",
    "            # Extract values from the DataFrame\n",
    "            values = tuple([row[col] for col in df_scd2_records_final_replace.columns])\n",
    "                \n",
    "            # Execute the update query with parameterized values\n",
    "            cur.execute(update_query, values)\n",
    "            connection.commit()\n",
    "        df_new_records_final.to_sql('station_info_eco_bikes',index=False,con=conn,if_exists=\"append\")\n",
    "        df_scd2_records_final_append.to_sql('station_info_eco_bikes',index=False,con=conn,if_exists=\"append\")\n",
    "    except (Exception, psycopg2.Error) as error:\n",
    "        print(\"Error while fetching data from PostgreSQL\", error)\n",
    "    finally:\n",
    "        cur.close()\n",
    "        connection.close()\n",
    "    "
   ]
  }
 ],
 "metadata": {
  "kernelspec": {
   "display_name": "clase6-W9Ppsfts-py3.9",
   "language": "python",
   "name": "python3"
  },
  "language_info": {
   "codemirror_mode": {
    "name": "ipython",
    "version": 3
   },
   "file_extension": ".py",
   "mimetype": "text/x-python",
   "name": "python",
   "nbconvert_exporter": "python",
   "pygments_lexer": "ipython3",
   "version": "3.9.5"
  }
 },
 "nbformat": 4,
 "nbformat_minor": 2
}
