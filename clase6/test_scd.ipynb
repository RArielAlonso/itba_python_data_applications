{
 "cells": [
  {
   "cell_type": "code",
   "execution_count": 346,
   "metadata": {},
   "outputs": [],
   "source": [
    "import pandas as pd\n",
    "from sqlalchemy import create_engine\n",
    "import datetime as dt"
   ]
  },
  {
   "cell_type": "code",
   "execution_count": 347,
   "metadata": {},
   "outputs": [],
   "source": [
    "POSTGRES_USER=\"ariel\"\n",
    "POSTGRES_PASS=\"ariel\"\n",
    "POSTGRES_HOST=\"localhost\"\n",
    "POSTGRES_DB=\"eco_bikes\"\n",
    "POSTGRES_PORT=\"5432\"\n",
    "POSTGRES_SCHEMA=\"eco_bikes\"\n",
    "DB_STR = f\"postgresql+psycopg2://{POSTGRES_USER}:{POSTGRES_PASS}@{POSTGRES_HOST}:{POSTGRES_PORT}/{POSTGRES_DB}\""
   ]
  },
  {
   "cell_type": "code",
   "execution_count": 348,
   "metadata": {},
   "outputs": [],
   "source": [
    "conn = create_engine(DB_STR, connect_args={'options': f'-csearch_path={POSTGRES_SCHEMA}'})"
   ]
  },
  {
   "cell_type": "code",
   "execution_count": 349,
   "metadata": {},
   "outputs": [],
   "source": [
    "data_scr=pd.read_parquet(\"/tmp/station_info_eco_bikes.parquet\")"
   ]
  },
  {
   "cell_type": "code",
   "execution_count": 350,
   "metadata": {},
   "outputs": [],
   "source": [
    "data_scr.drop(columns=\"reload_id\",inplace=True)"
   ]
  },
  {
   "cell_type": "code",
   "execution_count": 351,
   "metadata": {},
   "outputs": [
    {
     "data": {
      "text/plain": [
       "Index(['station_id', 'station_name', 'physical_configuration', 'lat', 'lon',\n",
       "       'altitude', 'address', 'capacity', 'is_charging_station',\n",
       "       'nearby_distance', '_ride_code_support'],\n",
       "      dtype='object')"
      ]
     },
     "execution_count": 351,
     "metadata": {},
     "output_type": "execute_result"
    }
   ],
   "source": [
    "data_scr.columns"
   ]
  },
  {
   "cell_type": "code",
   "execution_count": 352,
   "metadata": {},
   "outputs": [],
   "source": [
    "data_target=pd.read_sql_query(\"SELECT * FROM eco_bikes.station_info_eco_bikes\",con=conn)\n",
    "data_target.drop(columns=\"reload_id\",inplace=True)\n",
    "data_target[\"flag\"]=1"
   ]
  },
  {
   "cell_type": "code",
   "execution_count": 365,
   "metadata": {},
   "outputs": [
    {
     "data": {
      "text/html": [
       "<div>\n",
       "<style scoped>\n",
       "    .dataframe tbody tr th:only-of-type {\n",
       "        vertical-align: middle;\n",
       "    }\n",
       "\n",
       "    .dataframe tbody tr th {\n",
       "        vertical-align: top;\n",
       "    }\n",
       "\n",
       "    .dataframe thead th {\n",
       "        text-align: right;\n",
       "    }\n",
       "</style>\n",
       "<table border=\"1\" class=\"dataframe\">\n",
       "  <thead>\n",
       "    <tr style=\"text-align: right;\">\n",
       "      <th></th>\n",
       "      <th>station_id</th>\n",
       "      <th>station_name</th>\n",
       "      <th>physical_configuration</th>\n",
       "      <th>lat</th>\n",
       "      <th>lon</th>\n",
       "      <th>altitude</th>\n",
       "      <th>address</th>\n",
       "      <th>capacity</th>\n",
       "      <th>is_charging_station</th>\n",
       "      <th>nearby_distance</th>\n",
       "      <th>_ride_code_support</th>\n",
       "      <th>flag</th>\n",
       "    </tr>\n",
       "  </thead>\n",
       "  <tbody>\n",
       "    <tr>\n",
       "      <th>0</th>\n",
       "      <td>3</td>\n",
       "      <td>003 - ADUANA</td>\n",
       "      <td>SMARTLITMAPFRAME</td>\n",
       "      <td>-34.611102</td>\n",
       "      <td>-58.368174</td>\n",
       "      <td>0.0</td>\n",
       "      <td>Moreno &amp; Azopardo</td>\n",
       "      <td>28</td>\n",
       "      <td>False</td>\n",
       "      <td>1000.0</td>\n",
       "      <td>True</td>\n",
       "      <td>1</td>\n",
       "    </tr>\n",
       "    <tr>\n",
       "      <th>1</th>\n",
       "      <td>4</td>\n",
       "      <td>004 - Plaza Roma</td>\n",
       "      <td>SMARTLITMAPFRAME</td>\n",
       "      <td>-34.603008</td>\n",
       "      <td>-58.368856</td>\n",
       "      <td>0.0</td>\n",
       "      <td>Av. Corrientes 100</td>\n",
       "      <td>20</td>\n",
       "      <td>False</td>\n",
       "      <td>1000.0</td>\n",
       "      <td>True</td>\n",
       "      <td>1</td>\n",
       "    </tr>\n",
       "    <tr>\n",
       "      <th>2</th>\n",
       "      <td>5</td>\n",
       "      <td>005 - Plaza Italia</td>\n",
       "      <td>SMARTLITMAPFRAME</td>\n",
       "      <td>-34.580550</td>\n",
       "      <td>-58.420954</td>\n",
       "      <td>0.0</td>\n",
       "      <td>Av. Sarmiento 2601</td>\n",
       "      <td>42</td>\n",
       "      <td>False</td>\n",
       "      <td>1000.0</td>\n",
       "      <td>True</td>\n",
       "      <td>1</td>\n",
       "    </tr>\n",
       "    <tr>\n",
       "      <th>3</th>\n",
       "      <td>6</td>\n",
       "      <td>006 - Parque Lezama</td>\n",
       "      <td>SMARTLITMAPFRAME</td>\n",
       "      <td>-34.628526</td>\n",
       "      <td>-58.369758</td>\n",
       "      <td>0.0</td>\n",
       "      <td>Avenida Martin Garcia, 295</td>\n",
       "      <td>20</td>\n",
       "      <td>False</td>\n",
       "      <td>1000.0</td>\n",
       "      <td>True</td>\n",
       "      <td>1</td>\n",
       "    </tr>\n",
       "    <tr>\n",
       "      <th>4</th>\n",
       "      <td>7</td>\n",
       "      <td>007 - OBELISCO</td>\n",
       "      <td>SMARTLITMAPFRAME</td>\n",
       "      <td>-34.606498</td>\n",
       "      <td>-58.381098</td>\n",
       "      <td>0.0</td>\n",
       "      <td>CARLOS PELEGRINI 215</td>\n",
       "      <td>24</td>\n",
       "      <td>False</td>\n",
       "      <td>1000.0</td>\n",
       "      <td>True</td>\n",
       "      <td>1</td>\n",
       "    </tr>\n",
       "    <tr>\n",
       "      <th>...</th>\n",
       "      <td>...</td>\n",
       "      <td>...</td>\n",
       "      <td>...</td>\n",
       "      <td>...</td>\n",
       "      <td>...</td>\n",
       "      <td>...</td>\n",
       "      <td>...</td>\n",
       "      <td>...</td>\n",
       "      <td>...</td>\n",
       "      <td>...</td>\n",
       "      <td>...</td>\n",
       "      <td>...</td>\n",
       "    </tr>\n",
       "    <tr>\n",
       "      <th>345</th>\n",
       "      <td>532</td>\n",
       "      <td>072 - INSTITUTO POLITÉCNICO MODELO</td>\n",
       "      <td>SMARTLITMAPFRAME</td>\n",
       "      <td>-34.573033</td>\n",
       "      <td>-58.503908</td>\n",
       "      <td>0.0</td>\n",
       "      <td>Av Constituyentes 5880</td>\n",
       "      <td>20</td>\n",
       "      <td>False</td>\n",
       "      <td>1000.0</td>\n",
       "      <td>True</td>\n",
       "      <td>1</td>\n",
       "    </tr>\n",
       "    <tr>\n",
       "      <th>346</th>\n",
       "      <td>533</td>\n",
       "      <td>077 - CRISOLOGO LARRALDE</td>\n",
       "      <td>SMARTLITMAPFRAME</td>\n",
       "      <td>-34.561191</td>\n",
       "      <td>-58.492030</td>\n",
       "      <td>0.0</td>\n",
       "      <td>Galván 3601</td>\n",
       "      <td>20</td>\n",
       "      <td>False</td>\n",
       "      <td>1000.0</td>\n",
       "      <td>True</td>\n",
       "      <td>1</td>\n",
       "    </tr>\n",
       "    <tr>\n",
       "      <th>347</th>\n",
       "      <td>534</td>\n",
       "      <td>081 - PARQUE DE LA CIENCIA</td>\n",
       "      <td>SMARTLITMAPFRAME</td>\n",
       "      <td>-34.582963</td>\n",
       "      <td>-58.429979</td>\n",
       "      <td>0.0</td>\n",
       "      <td>Soler 5300</td>\n",
       "      <td>24</td>\n",
       "      <td>False</td>\n",
       "      <td>1000.0</td>\n",
       "      <td>True</td>\n",
       "      <td>1</td>\n",
       "    </tr>\n",
       "    <tr>\n",
       "      <th>348</th>\n",
       "      <td>535</td>\n",
       "      <td>090 - HONORIO PUEYRREDON</td>\n",
       "      <td>SMARTLITMAPFRAME</td>\n",
       "      <td>-34.602517</td>\n",
       "      <td>-58.449659</td>\n",
       "      <td>0.0</td>\n",
       "      <td>Honorio Pueyrredón 1653</td>\n",
       "      <td>20</td>\n",
       "      <td>False</td>\n",
       "      <td>1000.0</td>\n",
       "      <td>True</td>\n",
       "      <td>1</td>\n",
       "    </tr>\n",
       "    <tr>\n",
       "      <th>349</th>\n",
       "      <td>536</td>\n",
       "      <td>019 - PLAZA  SAN MARTIN</td>\n",
       "      <td>SMARTLITMAPFRAME</td>\n",
       "      <td>-34.595474</td>\n",
       "      <td>-58.377482</td>\n",
       "      <td>0.0</td>\n",
       "      <td>Av. Santa Fe 716</td>\n",
       "      <td>20</td>\n",
       "      <td>False</td>\n",
       "      <td>1000.0</td>\n",
       "      <td>True</td>\n",
       "      <td>1</td>\n",
       "    </tr>\n",
       "  </tbody>\n",
       "</table>\n",
       "<p>350 rows × 12 columns</p>\n",
       "</div>"
      ],
      "text/plain": [
       "    station_id                        station_name physical_configuration  \\\n",
       "0            3                        003 - ADUANA       SMARTLITMAPFRAME   \n",
       "1            4                    004 - Plaza Roma       SMARTLITMAPFRAME   \n",
       "2            5                  005 - Plaza Italia       SMARTLITMAPFRAME   \n",
       "3            6                 006 - Parque Lezama       SMARTLITMAPFRAME   \n",
       "4            7                      007 - OBELISCO       SMARTLITMAPFRAME   \n",
       "..         ...                                 ...                    ...   \n",
       "345        532  072 - INSTITUTO POLITÉCNICO MODELO       SMARTLITMAPFRAME   \n",
       "346        533            077 - CRISOLOGO LARRALDE       SMARTLITMAPFRAME   \n",
       "347        534          081 - PARQUE DE LA CIENCIA       SMARTLITMAPFRAME   \n",
       "348        535            090 - HONORIO PUEYRREDON       SMARTLITMAPFRAME   \n",
       "349        536             019 - PLAZA  SAN MARTIN       SMARTLITMAPFRAME   \n",
       "\n",
       "           lat        lon  altitude                     address  capacity  \\\n",
       "0   -34.611102 -58.368174       0.0           Moreno & Azopardo        28   \n",
       "1   -34.603008 -58.368856       0.0          Av. Corrientes 100        20   \n",
       "2   -34.580550 -58.420954       0.0          Av. Sarmiento 2601        42   \n",
       "3   -34.628526 -58.369758       0.0  Avenida Martin Garcia, 295        20   \n",
       "4   -34.606498 -58.381098       0.0        CARLOS PELEGRINI 215        24   \n",
       "..         ...        ...       ...                         ...       ...   \n",
       "345 -34.573033 -58.503908       0.0      Av Constituyentes 5880        20   \n",
       "346 -34.561191 -58.492030       0.0                 Galván 3601        20   \n",
       "347 -34.582963 -58.429979       0.0                 Soler 5300         24   \n",
       "348 -34.602517 -58.449659       0.0     Honorio Pueyrredón 1653        20   \n",
       "349 -34.595474 -58.377482       0.0            Av. Santa Fe 716        20   \n",
       "\n",
       "     is_charging_station  nearby_distance  _ride_code_support  flag  \n",
       "0                  False           1000.0                True     1  \n",
       "1                  False           1000.0                True     1  \n",
       "2                  False           1000.0                True     1  \n",
       "3                  False           1000.0                True     1  \n",
       "4                  False           1000.0                True     1  \n",
       "..                   ...              ...                 ...   ...  \n",
       "345                False           1000.0                True     1  \n",
       "346                False           1000.0                True     1  \n",
       "347                False           1000.0                True     1  \n",
       "348                False           1000.0                True     1  \n",
       "349                False           1000.0                True     1  \n",
       "\n",
       "[350 rows x 12 columns]"
      ]
     },
     "execution_count": 365,
     "metadata": {},
     "output_type": "execute_result"
    }
   ],
   "source": [
    "data_target"
   ]
  },
  {
   "cell_type": "markdown",
   "metadata": {},
   "source": [
    "## CODE TO MAKE SCD"
   ]
  },
  {
   "cell_type": "code",
   "execution_count": 354,
   "metadata": {},
   "outputs": [],
   "source": [
    "datetime_now=pd.to_datetime(dt.datetime.now(),format=\"%Y-%m-%d %HH:%MM:%SS\")"
   ]
  },
  {
   "cell_type": "code",
   "execution_count": 355,
   "metadata": {},
   "outputs": [],
   "source": [
    "data_target_current=data_target[(data_target[\"flag\"]==1)]"
   ]
  },
  {
   "cell_type": "code",
   "execution_count": 356,
   "metadata": {},
   "outputs": [],
   "source": [
    "df_merge_col=pd.merge(data_scr,data_target_current,on='station_id',how='left')"
   ]
  },
  {
   "cell_type": "code",
   "execution_count": 357,
   "metadata": {},
   "outputs": [],
   "source": [
    "new_records_filter=pd.isnull(df_merge_col).any(axis=1)\n"
   ]
  },
  {
   "cell_type": "code",
   "execution_count": 358,
   "metadata": {},
   "outputs": [],
   "source": [
    "df_new_records = df_merge_col[new_records_filter]"
   ]
  },
  {
   "cell_type": "code",
   "execution_count": 359,
   "metadata": {},
   "outputs": [],
   "source": [
    "df_new_records_final=df_new_records.copy()\n",
    "df_new_records_final=df_new_records_final[['station_id',\"station_name_x\",\"physical_configuration_x\",\"lat_x\",\"lon_x\",\"altitude_x\",\"address_x\",\"capacity_x\",\"is_charging_station_x\",\"nearby_distance_x\",\"_ride_code_support_x\"]]\n",
    "df_new_records_final.columns=['station_id', 'station_name', 'physical_configuration', 'lat', 'lon','altitude', 'address', 'capacity', 'is_charging_station','nearby_distance', '_ride_code_support']"
   ]
  },
  {
   "cell_type": "code",
   "execution_count": 363,
   "metadata": {},
   "outputs": [],
   "source": [
    "df_new_records_final['start_date']=datetime_now\n",
    "df_new_records_final['end_date']=\"9999-12-30 00:00:00\"\n",
    "df_new_records_final['is_active']=1\n",
    "df_new_records_final['reload_id']=2"
   ]
  },
  {
   "cell_type": "code",
   "execution_count": 366,
   "metadata": {},
   "outputs": [
    {
     "data": {
      "text/html": [
       "<div>\n",
       "<style scoped>\n",
       "    .dataframe tbody tr th:only-of-type {\n",
       "        vertical-align: middle;\n",
       "    }\n",
       "\n",
       "    .dataframe tbody tr th {\n",
       "        vertical-align: top;\n",
       "    }\n",
       "\n",
       "    .dataframe thead th {\n",
       "        text-align: right;\n",
       "    }\n",
       "</style>\n",
       "<table border=\"1\" class=\"dataframe\">\n",
       "  <thead>\n",
       "    <tr style=\"text-align: right;\">\n",
       "      <th></th>\n",
       "      <th>station_id</th>\n",
       "      <th>station_name</th>\n",
       "      <th>physical_configuration</th>\n",
       "      <th>lat</th>\n",
       "      <th>lon</th>\n",
       "      <th>altitude</th>\n",
       "      <th>address</th>\n",
       "      <th>capacity</th>\n",
       "      <th>is_charging_station</th>\n",
       "      <th>nearby_distance</th>\n",
       "      <th>_ride_code_support</th>\n",
       "      <th>start_date</th>\n",
       "      <th>end_date</th>\n",
       "      <th>is_active</th>\n",
       "      <th>reload_id</th>\n",
       "    </tr>\n",
       "  </thead>\n",
       "  <tbody>\n",
       "    <tr>\n",
       "      <th>0</th>\n",
       "      <td>2</td>\n",
       "      <td>002 - Retiro I</td>\n",
       "      <td>SMARTLITMAPFRAME</td>\n",
       "      <td>-34.592424</td>\n",
       "      <td>-58.37471</td>\n",
       "      <td>0.0</td>\n",
       "      <td>AV. Dr. José María Ramos Mejía 1300</td>\n",
       "      <td>40</td>\n",
       "      <td>False</td>\n",
       "      <td>1000.0</td>\n",
       "      <td>True</td>\n",
       "      <td>2023-10-25 16:18:40.258090</td>\n",
       "      <td>9999-12-30 00:00:00</td>\n",
       "      <td>1</td>\n",
       "      <td>2</td>\n",
       "    </tr>\n",
       "  </tbody>\n",
       "</table>\n",
       "</div>"
      ],
      "text/plain": [
       "  station_id    station_name physical_configuration        lat       lon  \\\n",
       "0          2  002 - Retiro I       SMARTLITMAPFRAME -34.592424 -58.37471   \n",
       "\n",
       "   altitude                              address  capacity  \\\n",
       "0       0.0  AV. Dr. José María Ramos Mejía 1300        40   \n",
       "\n",
       "   is_charging_station  nearby_distance  _ride_code_support  \\\n",
       "0                False           1000.0                True   \n",
       "\n",
       "                  start_date             end_date  is_active  reload_id  \n",
       "0 2023-10-25 16:18:40.258090  9999-12-30 00:00:00          1          2  "
      ]
     },
     "execution_count": 366,
     "metadata": {},
     "output_type": "execute_result"
    }
   ],
   "source": [
    "df_new_records_final"
   ]
  },
  {
   "cell_type": "code",
   "execution_count": 367,
   "metadata": {},
   "outputs": [
    {
     "data": {
      "text/plain": [
       "1"
      ]
     },
     "execution_count": 367,
     "metadata": {},
     "output_type": "execute_result"
    }
   ],
   "source": [
    "df_new_records_final.to_sql('station_info_eco_bikes',index=False,con=conn,if_exists=\"append\")"
   ]
  },
  {
   "cell_type": "code",
   "execution_count": 276,
   "metadata": {},
   "outputs": [],
   "source": [
    "df_excluding_new = pd.concat([df_merge_col, df_new_records],axis=0).drop_duplicates(keep=False)"
   ]
  },
  {
   "cell_type": "code",
   "execution_count": 277,
   "metadata": {},
   "outputs": [],
   "source": [
    "df_scd2_records=df_excluding_new[(df_excluding_new[\"station_name_x\"]!=df_excluding_new[\"station_name_y\"] ) | \n",
    "                                 (df_excluding_new[\"physical_configuration_x\"]!=df_excluding_new[\"physical_configuration_y\"]) | \n",
    "                                 (df_excluding_new[\"lat_x\"]!=df_excluding_new[\"lat_y\"]) | \n",
    "                                 (df_excluding_new[\"lon_x\"]!=df_excluding_new[\"lon_y\"]) | \n",
    "                                 (df_excluding_new[\"altitude_x\"]!=df_excluding_new[\"altitude_y\"]) | \n",
    "                                 (df_excluding_new[\"address_x\"]!=df_excluding_new[\"address_y\"]) | \n",
    "                                 (df_excluding_new[\"capacity_x\"]!=df_excluding_new[\"capacity_y\"]) | \n",
    "                                 (df_excluding_new[\"is_charging_station_x\"]!=df_excluding_new[\"is_charging_station_y\"]) | \n",
    "                                 (df_excluding_new[\"nearby_distance_x\"]!=df_excluding_new[\"nearby_distance_y\"]) | \n",
    "                                 (df_excluding_new[\"_ride_code_support_x\"]!=df_excluding_new[\"_ride_code_support_y\"])]"
   ]
  },
  {
   "cell_type": "code",
   "execution_count": 283,
   "metadata": {},
   "outputs": [],
   "source": [
    "df_scd2_records_final_replace=df_scd2_records[['station_id',\"station_name_y\",\"physical_configuration_y\",\"lat_y\",\"lon_y\",\"altitude_y\",\"address_y\",\"capacity_y\",\"is_charging_station_y\",\"nearby_distance_y\",\"_ride_code_support_y\"]]\n",
    "df_scd2_records_final_replace.columns=['station_id', 'station_name', 'physical_configuration', 'lat', 'lon','altitude', 'address', 'capacity', 'is_charging_station','nearby_distance', '_ride_code_support']"
   ]
  },
  {
   "cell_type": "code",
   "execution_count": 280,
   "metadata": {},
   "outputs": [],
   "source": [
    "df_scd2_records_final_append=df_scd2_records[['station_id',\"station_name_x\",\"physical_configuration_x\",\"lat_x\",\"lon_x\",\"altitude_x\",\"address_x\",\"capacity_x\",\"is_charging_station_x\",\"nearby_distance_x\",\"_ride_code_support_x\"]]\n",
    "df_scd2_records_final_append.columns=['station_id', 'station_name', 'physical_configuration', 'lat', 'lon','altitude', 'address', 'capacity', 'is_charging_station','nearby_distance', '_ride_code_support']"
   ]
  },
  {
   "cell_type": "code",
   "execution_count": 284,
   "metadata": {},
   "outputs": [
    {
     "data": {
      "text/html": [
       "<div>\n",
       "<style scoped>\n",
       "    .dataframe tbody tr th:only-of-type {\n",
       "        vertical-align: middle;\n",
       "    }\n",
       "\n",
       "    .dataframe tbody tr th {\n",
       "        vertical-align: top;\n",
       "    }\n",
       "\n",
       "    .dataframe thead th {\n",
       "        text-align: right;\n",
       "    }\n",
       "</style>\n",
       "<table border=\"1\" class=\"dataframe\">\n",
       "  <thead>\n",
       "    <tr style=\"text-align: right;\">\n",
       "      <th></th>\n",
       "      <th>station_id</th>\n",
       "      <th>station_name</th>\n",
       "      <th>physical_configuration</th>\n",
       "      <th>lat</th>\n",
       "      <th>lon</th>\n",
       "      <th>altitude</th>\n",
       "      <th>address</th>\n",
       "      <th>capacity</th>\n",
       "      <th>is_charging_station</th>\n",
       "      <th>nearby_distance</th>\n",
       "      <th>_ride_code_support</th>\n",
       "    </tr>\n",
       "  </thead>\n",
       "  <tbody>\n",
       "    <tr>\n",
       "      <th>1</th>\n",
       "      <td>3</td>\n",
       "      <td>003 - ADUANA</td>\n",
       "      <td>SMARTLITMAPFRAME</td>\n",
       "      <td>-34.611102</td>\n",
       "      <td>-58.368174</td>\n",
       "      <td>0.0</td>\n",
       "      <td>Moreno &amp; Azopardo</td>\n",
       "      <td>1000.0</td>\n",
       "      <td>False</td>\n",
       "      <td>1000.0</td>\n",
       "      <td>True</td>\n",
       "    </tr>\n",
       "  </tbody>\n",
       "</table>\n",
       "</div>"
      ],
      "text/plain": [
       "  station_id  station_name physical_configuration        lat        lon  \\\n",
       "1          3  003 - ADUANA       SMARTLITMAPFRAME -34.611102 -58.368174   \n",
       "\n",
       "   altitude            address  capacity is_charging_station  nearby_distance  \\\n",
       "1       0.0  Moreno & Azopardo    1000.0               False           1000.0   \n",
       "\n",
       "  _ride_code_support  \n",
       "1               True  "
      ]
     },
     "execution_count": 284,
     "metadata": {},
     "output_type": "execute_result"
    }
   ],
   "source": [
    "df_scd2_records_final_replace['']"
   ]
  },
  {
   "cell_type": "code",
   "execution_count": 285,
   "metadata": {},
   "outputs": [
    {
     "data": {
      "text/html": [
       "<div>\n",
       "<style scoped>\n",
       "    .dataframe tbody tr th:only-of-type {\n",
       "        vertical-align: middle;\n",
       "    }\n",
       "\n",
       "    .dataframe tbody tr th {\n",
       "        vertical-align: top;\n",
       "    }\n",
       "\n",
       "    .dataframe thead th {\n",
       "        text-align: right;\n",
       "    }\n",
       "</style>\n",
       "<table border=\"1\" class=\"dataframe\">\n",
       "  <thead>\n",
       "    <tr style=\"text-align: right;\">\n",
       "      <th></th>\n",
       "      <th>station_id</th>\n",
       "      <th>station_name</th>\n",
       "      <th>physical_configuration</th>\n",
       "      <th>lat</th>\n",
       "      <th>lon</th>\n",
       "      <th>altitude</th>\n",
       "      <th>address</th>\n",
       "      <th>capacity</th>\n",
       "      <th>is_charging_station</th>\n",
       "      <th>nearby_distance</th>\n",
       "      <th>_ride_code_support</th>\n",
       "    </tr>\n",
       "  </thead>\n",
       "  <tbody>\n",
       "    <tr>\n",
       "      <th>1</th>\n",
       "      <td>3</td>\n",
       "      <td>003 - ADUANA</td>\n",
       "      <td>SMARTLITMAPFRAME</td>\n",
       "      <td>-34.611102</td>\n",
       "      <td>-58.368174</td>\n",
       "      <td>0.0</td>\n",
       "      <td>Moreno &amp; Azopardo</td>\n",
       "      <td>28</td>\n",
       "      <td>False</td>\n",
       "      <td>1000.0</td>\n",
       "      <td>True</td>\n",
       "    </tr>\n",
       "  </tbody>\n",
       "</table>\n",
       "</div>"
      ],
      "text/plain": [
       "  station_id  station_name physical_configuration        lat        lon  \\\n",
       "1          3  003 - ADUANA       SMARTLITMAPFRAME -34.611102 -58.368174   \n",
       "\n",
       "   altitude            address  capacity  is_charging_station  \\\n",
       "1       0.0  Moreno & Azopardo        28                False   \n",
       "\n",
       "   nearby_distance  _ride_code_support  \n",
       "1           1000.0                True  "
      ]
     },
     "execution_count": 285,
     "metadata": {},
     "output_type": "execute_result"
    }
   ],
   "source": [
    "df_scd2_records_final_append"
   ]
  }
 ],
 "metadata": {
  "kernelspec": {
   "display_name": "clase6-W9Ppsfts-py3.9",
   "language": "python",
   "name": "python3"
  },
  "language_info": {
   "codemirror_mode": {
    "name": "ipython",
    "version": 3
   },
   "file_extension": ".py",
   "mimetype": "text/x-python",
   "name": "python",
   "nbconvert_exporter": "python",
   "pygments_lexer": "ipython3",
   "version": "3.9.5"
  }
 },
 "nbformat": 4,
 "nbformat_minor": 2
}
